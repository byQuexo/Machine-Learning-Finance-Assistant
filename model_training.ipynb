{
 "cells": [
  {
   "cell_type": "code",
   "id": "initial_id",
   "metadata": {
    "collapsed": true,
    "ExecuteTime": {
     "end_time": "2024-11-17T05:31:18.043025Z",
     "start_time": "2024-11-17T05:31:18.040428Z"
    }
   },
   "source": [
    "from prophet import Prophet\n",
    "import pandas as pd\n",
    "import matplotlib.pyplot as plt"
   ],
   "outputs": [],
   "execution_count": 8
  },
  {
   "metadata": {
    "ExecuteTime": {
     "end_time": "2024-11-17T05:31:18.069190Z",
     "start_time": "2024-11-17T05:31:18.065031Z"
    }
   },
   "cell_type": "code",
   "source": [
    "\"\"\"\n",
    "The system should function as a decision-support tool, enabling users to set intervals (e.g., daily, weekly) or define financial goals (e.g., savings targets) and receive relevant recommendations.\n",
    "\"\"\"\n",
    "def train_forcasting_model_for_savings(df, savings_goal, forecast_periods=12, interval='W'):\n",
    "    prophet_data = pd.DataFrame({\n",
    "        'ds': df.index,\n",
    "        'y': df['Savings for Property (£)']\n",
    "    }).reset_index(drop=False)\n",
    "\n",
    "    # Train the model\n",
    "    model = Prophet(\n",
    "        yearly_seasonality=True,\n",
    "        weekly_seasonality=True,\n",
    "        daily_seasonality=False\n",
    "    )\n",
    "    model.fit(prophet_data)\n",
    "\n",
    "    # Make future predictions\n",
    "    future = model.make_future_dataframe(periods=forecast_periods, freq=interval)\n",
    "    forecast = model.predict(future)\n",
    "\n",
    "    # Calculate projected savings and shortfall\n",
    "    last_date = prophet_data['ds'].max()\n",
    "    projected_savings = forecast[forecast['ds'] > last_date]['yhat'].sum()\n",
    "    shortfall = max(0, savings_goal - projected_savings)\n",
    "\n",
    "    # Add goal analysis to forecast DataFrame\n",
    "    forecast['savings_goal_line'] = savings_goal / forecast_periods\n",
    "    forecast['cumulative_savings'] = forecast['yhat'].cumsum()\n",
    "\n",
    "    # Add status indicators\n",
    "    forecast['on_track'] = forecast['cumulative_savings'] >= (\n",
    "        forecast.index * (savings_goal / len(forecast))\n",
    "    )\n",
    "\n",
    "    return forecast, shortfall"
   ],
   "id": "41e770d3548349d9",
   "outputs": [],
   "execution_count": 9
  },
  {
   "metadata": {
    "ExecuteTime": {
     "end_time": "2024-11-17T05:31:32.291677Z",
     "start_time": "2024-11-17T05:31:32.286441Z"
    }
   },
   "cell_type": "code",
   "source": [
    "forcast_period = 4\n",
    "expenses_limit = 1000\n",
    "savings_goal = 10000\n",
    "today_date = pd.to_datetime('today').date()\n",
    "dates = pd.date_range(start=today_date, periods=forcast_period, freq='ME')\n",
    "\n",
    "dataFrame = pd.DataFrame({\n",
    "    'Monthly Income (£)': 5000,\n",
    "    'Total Expenses': 987.87,\n",
    "    'Savings for Property (£)': 300\n",
    "}, index=dates)\n"
   ],
   "id": "4c0487b0c272a4f8",
   "outputs": [],
   "execution_count": 13
  },
  {
   "metadata": {
    "ExecuteTime": {
     "end_time": "2024-11-17T05:31:42.941567Z",
     "start_time": "2024-11-17T05:31:42.785785Z"
    }
   },
   "cell_type": "code",
   "source": [
    "# Run the model\n",
    "forecast, shortfall = train_forcasting_model_for_savings(\n",
    "    dataFrame,\n",
    "    savings_goal=savings_goal,\n",
    "    forecast_periods=forcast_period,\n",
    "    interval='ME'\n",
    ")\n"
   ],
   "id": "80dbe6deb8256d6a",
   "outputs": [],
   "execution_count": 14
  },
  {
   "metadata": {
    "ExecuteTime": {
     "end_time": "2024-11-17T05:31:18.285991Z",
     "start_time": "2024-11-17T05:31:18.277651Z"
    }
   },
   "cell_type": "code",
   "source": [
    "print(\"Savings Forecast Analysis:\")\n",
    "print(f\"Projected Total Savings: £{forecast['yhat'].sum():,.2f}\")\n",
    "print(f\"Shortfall from Goal: £{shortfall:,.2f}\")\n",
    "\n",
    "# Monthly breakdown\n",
    "print(\"\\nMonthly Savings Forecast:\")\n",
    "forecast_summary = pd.DataFrame({\n",
    "    'Date': forecast['ds'],\n",
    "    'Predicted Savings': forecast['yhat'].round(2),\n",
    "    'Cumulative Savings': forecast['cumulative_savings'].round(2),\n",
    "    'On Track': forecast['on_track']\n",
    "})\n",
    "print(forecast_summary)\n",
    "\n",
    "# Goal tracking status\n",
    "months_on_track = forecast['on_track'].sum()\n",
    "total_months = len(forecast)\n",
    "print(f\"\\nMonths on track to meet goal: {months_on_track} out of {total_months}\")\n",
    "\n",
    "print(\"\\nRecommendations:\")\n",
    "if shortfall > 0:\n",
    "    monthly_increase_needed = shortfall / forcast_period\n",
    "    print(f\"- Increase monthly savings by £{monthly_increase_needed:.2f} to meet your goal\")\n",
    "    if dataFrame['Total Expenses'].mean() > expenses_limit:\n",
    "        print(f\"- Reduce monthly expenses (currently exceeding £{expenses_limit:,.2f} limit)\")\n",
    "else:\n",
    "    print(\"- You're on track to meet your savings goal!\")"
   ],
   "id": "787d780fda4155d3",
   "outputs": [
    {
     "name": "stdout",
     "output_type": "stream",
     "text": [
      "Savings Forecast Analysis:\n",
      "Projected Total Savings: £2,400.00\n",
      "Shortfall from Goal: £8,800.00\n",
      "\n",
      "Monthly Savings Forecast:\n",
      "        Date  Predicted Savings  Cumulative Savings  On Track\n",
      "0 2024-11-30              300.0               300.0      True\n",
      "1 2024-12-31              300.0               600.0     False\n",
      "2 2025-01-31              300.0               900.0     False\n",
      "3 2025-02-28              300.0              1200.0     False\n",
      "4 2025-03-31              300.0              1500.0     False\n",
      "5 2025-04-30              300.0              1800.0     False\n",
      "6 2025-05-31              300.0              2100.0     False\n",
      "7 2025-06-30              300.0              2400.0     False\n",
      "\n",
      "Months on track to meet goal: 1 out of 8\n",
      "\n",
      "Recommendations:\n",
      "- Increase monthly savings by £2200.00 to meet your goal\n"
     ]
    }
   ],
   "execution_count": 12
  }
 ],
 "metadata": {
  "kernelspec": {
   "display_name": "Python 3",
   "language": "python",
   "name": "python3"
  },
  "language_info": {
   "codemirror_mode": {
    "name": "ipython",
    "version": 2
   },
   "file_extension": ".py",
   "mimetype": "text/x-python",
   "name": "python",
   "nbconvert_exporter": "python",
   "pygments_lexer": "ipython2",
   "version": "2.7.6"
  }
 },
 "nbformat": 4,
 "nbformat_minor": 5
}
