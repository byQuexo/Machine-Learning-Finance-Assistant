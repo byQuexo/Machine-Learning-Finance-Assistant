{
 "cells": [
  {
   "metadata": {
    "ExecuteTime": {
     "end_time": "2024-11-08T16:56:39.914865Z",
     "start_time": "2024-11-08T16:56:39.911679Z"
    }
   },
   "cell_type": "code",
   "source": "import pandas as pd",
   "id": "dfc1f615466bb144",
   "outputs": [],
   "execution_count": 54
  },
  {
   "metadata": {},
   "cell_type": "markdown",
   "source": "### Load data",
   "id": "a797d68648a6b04c"
  },
  {
   "metadata": {
    "ExecuteTime": {
     "end_time": "2024-11-08T16:56:39.961412Z",
     "start_time": "2024-11-08T16:56:39.955876Z"
    }
   },
   "cell_type": "code",
   "source": [
    "df = pd.read_csv('data/personal_finance_employees_V1.csv')\n",
    "print(f\"Data shape: {df.shape}, Columns: {df.columns}, Data types: {df.dtypes}\") "
   ],
   "id": "5e241feef6507a4d",
   "outputs": [
    {
     "name": "stdout",
     "output_type": "stream",
     "text": [
      "Data shape: (50, 13), Columns: Index(['Employee', 'Monthly Income (£)', 'Electricity Bill (£)',\n",
      "       'Gas Bill (£)', 'Netflix (£)', 'Amazon Prime (£)', 'Groceries (£)',\n",
      "       'Transportation (£)', 'Water Bill (£)', 'Sky Sports (£)',\n",
      "       'Other Expenses (£)', 'Savings for Property (£)', 'Monthly Outing (£)'],\n",
      "      dtype='object'), Data types: Employee                     object\n",
      "Monthly Income (£)          float64\n",
      "Electricity Bill (£)        float64\n",
      "Gas Bill (£)                float64\n",
      "Netflix (£)                   int64\n",
      "Amazon Prime (£)            float64\n",
      "Groceries (£)               float64\n",
      "Transportation (£)          float64\n",
      "Water Bill (£)              float64\n",
      "Sky Sports (£)              float64\n",
      "Other Expenses (£)          float64\n",
      "Savings for Property (£)    float64\n",
      "Monthly Outing (£)          float64\n",
      "dtype: object\n"
     ]
    }
   ],
   "execution_count": 55
  },
  {
   "metadata": {},
   "cell_type": "markdown",
   "source": "### Change Data Type from Netflix to float",
   "id": "f48d1a25cc62314f"
  },
  {
   "metadata": {
    "ExecuteTime": {
     "end_time": "2024-11-08T16:56:40.074209Z",
     "start_time": "2024-11-08T16:56:40.070696Z"
    }
   },
   "cell_type": "code",
   "source": "df['Netflix (£)'] = df['Netflix (£)'].astype(float)",
   "id": "9014147af39a4ad2",
   "outputs": [],
   "execution_count": 56
  },
  {
   "metadata": {},
   "cell_type": "markdown",
   "source": "### Check for missing values",
   "id": "cb20cbcd8d3428fc"
  },
  {
   "metadata": {
    "ExecuteTime": {
     "end_time": "2024-11-08T16:56:40.146926Z",
     "start_time": "2024-11-08T16:56:40.141408Z"
    }
   },
   "cell_type": "code",
   "source": "df.isna().sum().sum()",
   "id": "f84bc1ca8e3be58b",
   "outputs": [
    {
     "data": {
      "text/plain": [
       "107"
      ]
     },
     "execution_count": 57,
     "metadata": {},
     "output_type": "execute_result"
    }
   ],
   "execution_count": 57
  },
  {
   "metadata": {},
   "cell_type": "markdown",
   "source": "### Fill required missing values eg. Water Bill ",
   "id": "e20ffd6d983051a1"
  },
  {
   "metadata": {
    "ExecuteTime": {
     "end_time": "2024-11-08T16:56:40.257980Z",
     "start_time": "2024-11-08T16:56:40.252020Z"
    }
   },
   "cell_type": "code",
   "source": [
    "avg_water_bill = df['Water Bill (£)'].mean()\n",
    "print(f\"Average water bill: {avg_water_bill}\")\n",
    "df['Water Bill (£)'] = df['Water Bill (£)'].fillna(avg_water_bill)\n",
    "df['Water Bill (£)'].head()"
   ],
   "id": "930b12b5cf8554c0",
   "outputs": [
    {
     "name": "stdout",
     "output_type": "stream",
     "text": [
      "Average water bill: 40.0\n"
     ]
    },
    {
     "data": {
      "text/plain": [
       "0    40.0\n",
       "1    40.0\n",
       "2    40.0\n",
       "3    40.0\n",
       "4    40.0\n",
       "Name: Water Bill (£), dtype: float64"
      ]
     },
     "execution_count": 58,
     "metadata": {},
     "output_type": "execute_result"
    }
   ],
   "execution_count": 58
  },
  {
   "metadata": {},
   "cell_type": "markdown",
   "source": "### Fill the Missing Values in the Streaming Services and other Expenses with 0",
   "id": "5c1dfd62aa89186c"
  },
  {
   "metadata": {
    "ExecuteTime": {
     "end_time": "2024-11-08T16:56:40.276729Z",
     "start_time": "2024-11-08T16:56:40.271705Z"
    }
   },
   "cell_type": "code",
   "source": [
    "df.fillna(0, inplace=True)\n",
    "## Check if all missing values are filled\n",
    "df.isna().sum().sum()"
   ],
   "id": "82ed3e5a17e78e9b",
   "outputs": [
    {
     "data": {
      "text/plain": [
       "0"
      ]
     },
     "execution_count": 59,
     "metadata": {},
     "output_type": "execute_result"
    }
   ],
   "execution_count": 59
  },
  {
   "metadata": {},
   "cell_type": "markdown",
   "source": "### Save the cleaned data",
   "id": "94c25700376de351"
  },
  {
   "metadata": {
    "ExecuteTime": {
     "end_time": "2024-11-08T16:56:40.300413Z",
     "start_time": "2024-11-08T16:56:40.296246Z"
    }
   },
   "cell_type": "code",
   "source": "df.to_csv('data/personal_finance_employees_V2.csv', index=False)",
   "id": "de65b2688c119cc2",
   "outputs": [],
   "execution_count": 60
  }
 ],
 "metadata": {
  "kernelspec": {
   "display_name": "Python 3",
   "language": "python",
   "name": "python3"
  },
  "language_info": {
   "codemirror_mode": {
    "name": "ipython",
    "version": 2
   },
   "file_extension": ".py",
   "mimetype": "text/x-python",
   "name": "python",
   "nbconvert_exporter": "python",
   "pygments_lexer": "ipython2",
   "version": "2.7.6"
  }
 },
 "nbformat": 4,
 "nbformat_minor": 5
}
